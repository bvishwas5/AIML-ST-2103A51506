{
  "nbformat": 4,
  "nbformat_minor": 0,
  "metadata": {
    "colab": {
      "provenance": [],
      "authorship_tag": "ABX9TyNjf5T9HgHGbE3cdEVPd8uz",
      "include_colab_link": true
    },
    "kernelspec": {
      "name": "python3",
      "display_name": "Python 3"
    },
    "language_info": {
      "name": "python"
    }
  },
  "cells": [
    {
      "cell_type": "markdown",
      "metadata": {
        "id": "view-in-github",
        "colab_type": "text"
      },
      "source": [
        "<a href=\"https://colab.research.google.com/github/bvishwas5/AIML-ST-2103A51506/blob/main/Untitled4.ipynb\" target=\"_parent\"><img src=\"https://colab.research.google.com/assets/colab-badge.svg\" alt=\"Open In Colab\"/></a>"
      ]
    },
    {
      "cell_type": "code",
      "execution_count": null,
      "metadata": {
        "colab": {
          "base_uri": "https://localhost:8080/"
        },
        "id": "G9rJGAYvCbXl",
        "outputId": "5707f818-8f4a-44bf-814a-2695d631aca6"
      },
      "outputs": [
        {
          "output_type": "stream",
          "name": "stdout",
          "text": [
            "DFS Traversal starting from node 0:\n",
            "0 1 2 4 3 "
          ]
        }
      ],
      "source": [
        "graph = {\n",
        "    0: [1, 2, 3],\n",
        "    1: [0],\n",
        "    2: [0, 4],\n",
        "    3: [0],\n",
        "    4: [2]\n",
        "}\n",
        "\n",
        "visited = set()\n",
        "\n",
        "def dfs(node):\n",
        "    if node not in visited:\n",
        "        print(node, end=\" \")\n",
        "        visited.add(node)\n",
        "        for neighbor in graph[node]:\n",
        "            dfs(neighbor)\n",
        "\n",
        "print(\"DFS Traversal starting from node 0:\")\n",
        "dfs(0)\n"
      ]
    }
  ]
}