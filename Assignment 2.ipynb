{
  "nbformat": 4,
  "nbformat_minor": 0,
  "metadata": {
    "colab": {
      "provenance": [],
      "authorship_tag": "ABX9TyODfpF9dLamap1l5nGOr7GB",
      "include_colab_link": true
    },
    "kernelspec": {
      "name": "python3",
      "display_name": "Python 3"
    },
    "language_info": {
      "name": "python"
    }
  },
  "cells": [
    {
      "cell_type": "markdown",
      "metadata": {
        "id": "view-in-github",
        "colab_type": "text"
      },
      "source": [
        "<a href=\"https://colab.research.google.com/github/bvishwas5/AIML-ST-2103A51506/blob/main/Untitled6.ipynb\" target=\"_parent\"><img src=\"https://colab.research.google.com/assets/colab-badge.svg\" alt=\"Open In Colab\"/></a>"
      ]
    },
    {
      "cell_type": "code",
      "execution_count": 1,
      "metadata": {
        "id": "BG92CquzSR2Z",
        "outputId": "de75670b-b888-4a90-e051-78fcf3bb1e86",
        "colab": {
          "base_uri": "https://localhost:8080/"
        }
      },
      "outputs": [
        {
          "output_type": "stream",
          "name": "stdout",
          "text": [
            "Optimal x: 1.636284805253813e-07\n",
            "Minimum value of f(x): 10.00000000000008\n"
          ]
        }
      ],
      "source": [
        "def f(x):\n",
        "    return x**4 + 3*x**2 + 10\n",
        "\n",
        "def grad_f(x):\n",
        "    return 4*x**3 + 6*x\n",
        "\n",
        "x = 1\n",
        "eta = 0.01\n",
        "tolerance = 1e-6\n",
        "max_iter = 1000\n",
        "iter = 0\n",
        "\n",
        "while abs(grad_f(x)) > tolerance and iter < max_iter:\n",
        "    x = x - eta * grad_f(x)\n",
        "    iter += 1\n",
        "\n",
        "print(\"Optimal x:\", x)\n",
        "print(\"Minimum value of f(x):\", f(x))\n"
      ]
    }
  ]
}
