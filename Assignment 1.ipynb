{
  "nbformat": 4,
  "nbformat_minor": 0,
  "metadata": {
    "colab": {
      "provenance": [],
      "authorship_tag": "ABX9TyMsgcAU+H3Hu5pmv9jA/oKq",
      "include_colab_link": true
    },
    "kernelspec": {
      "name": "python3",
      "display_name": "Python 3"
    },
    "language_info": {
      "name": "python"
    }
  },
  "cells": [
    {
      "cell_type": "markdown",
      "metadata": {
        "id": "view-in-github",
        "colab_type": "text"
      },
      "source": [
        "<a href=\"https://colab.research.google.com/github/bvishwas5/AIML-ST-2103A51506/blob/main/Untitled5.ipynb\" target=\"_parent\"><img src=\"https://colab.research.google.com/assets/colab-badge.svg\" alt=\"Open In Colab\"/></a>"
      ]
    },
    {
      "cell_type": "code",
      "execution_count": 1,
      "metadata": {
        "colab": {
          "base_uri": "https://localhost:8080/"
        },
        "id": "df8i4YieRmV2",
        "outputId": "eba525fa-9fd1-4bdb-a81c-831fddde73cd"
      },
      "outputs": [
        {
          "output_type": "stream",
          "name": "stdout",
          "text": [
            "Minimum value of x: 4.946123910360939e-07\n",
            "Minimum value of f(x): 5.000000000000244\n"
          ]
        }
      ],
      "source": [
        "def f(x):\n",
        "    return x**2 + 5\n",
        "\n",
        "def gradient(x):\n",
        "    return 2 * x\n",
        "\n",
        "x = 2\n",
        "eta = 0.01\n",
        "tolerance = 1e-6\n",
        "max_iter = 1000\n",
        "iteration = 0\n",
        "\n",
        "while abs(gradient(x)) > tolerance and iteration < max_iter:\n",
        "    grad = gradient(x)\n",
        "    delta_x = -eta * grad\n",
        "    x = x + delta_x\n",
        "    iteration += 1\n",
        "\n",
        "print(\"Minimum value of x:\", x)\n",
        "print(\"Minimum value of f(x):\", f(x))\n"
      ]
    }
  ]
}
