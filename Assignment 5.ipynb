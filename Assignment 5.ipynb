{
  "nbformat": 4,
  "nbformat_minor": 0,
  "metadata": {
    "colab": {
      "provenance": [],
      "authorship_tag": "ABX9TyNUAUqU5UCahk+DnwXWO2Hd",
      "include_colab_link": true
    },
    "kernelspec": {
      "name": "python3",
      "display_name": "Python 3"
    },
    "language_info": {
      "name": "python"
    }
  },
  "cells": [
    {
      "cell_type": "markdown",
      "metadata": {
        "id": "view-in-github",
        "colab_type": "text"
      },
      "source": [
        "<a href=\"https://colab.research.google.com/github/bvishwas5/AIML-ST-2103A51506/blob/main/Untitled10.ipynb\" target=\"_parent\"><img src=\"https://colab.research.google.com/assets/colab-badge.svg\" alt=\"Open In Colab\"/></a>"
      ]
    },
    {
      "cell_type": "code",
      "execution_count": 1,
      "metadata": {
        "colab": {
          "base_uri": "https://localhost:8080/"
        },
        "id": "tnsM6yPtXBO7",
        "outputId": "cb57a46b-d67a-49c8-a2d9-c15a6c395d3e"
      },
      "outputs": [
        {
          "output_type": "stream",
          "name": "stdout",
          "text": [
            "Final m1: 2.398690680348358\n",
            "Final m2: 2.522197897905611\n",
            "Final c: 4.004569339265219\n"
          ]
        }
      ],
      "source": [
        "X1 = [0.2, 0.4, 0.6, 0.8, 0.1]\n",
        "X2 = [0.1, 0.3, 0.5, 0.7, 0.2]\n",
        "Y = [4.7, 5.7, 6.7, 7.7, 4.8]\n",
        "\n",
        "learning_rate = 0.1\n",
        "iterations = 1000\n",
        "\n",
        "m1 = 0\n",
        "m2 = 0\n",
        "c = 0\n",
        "\n",
        "n = len(X1)\n",
        "\n",
        "for _ in range(iterations):\n",
        "    y_pred = [m1 * X1[i] + m2 * X2[i] + c for i in range(n)]\n",
        "    dm1 = (-2 / n) * sum((Y[i] - y_pred[i]) * X1[i] for i in range(n))\n",
        "    dm2 = (-2 / n) * sum((Y[i] - y_pred[i]) * X2[i] for i in range(n))\n",
        "    dc = (-2 / n) * sum(Y[i] - y_pred[i] for i in range(n))\n",
        "    m1 = m1 - learning_rate * dm1\n",
        "    m2 = m2 - learning_rate * dm2\n",
        "    c = c - learning_rate * dc\n",
        "\n",
        "print(f\"Final m1: {m1}\")\n",
        "print(f\"Final m2: {m2}\")\n",
        "print(f\"Final c: {c}\")\n"
      ]
    }
  ]
}
