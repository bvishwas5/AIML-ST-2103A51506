{
  "nbformat": 4,
  "nbformat_minor": 0,
  "metadata": {
    "colab": {
      "provenance": [],
      "authorship_tag": "ABX9TyNK6WUDCkH6qtmZm0BQ5E5T",
      "include_colab_link": true
    },
    "kernelspec": {
      "name": "python3",
      "display_name": "Python 3"
    },
    "language_info": {
      "name": "python"
    }
  },
  "cells": [
    {
      "cell_type": "markdown",
      "metadata": {
        "id": "view-in-github",
        "colab_type": "text"
      },
      "source": [
        "<a href=\"https://colab.research.google.com/github/bvishwas5/AIML-ST-2103A51506/blob/main/Untitled9.ipynb\" target=\"_parent\"><img src=\"https://colab.research.google.com/assets/colab-badge.svg\" alt=\"Open In Colab\"/></a>"
      ]
    },
    {
      "cell_type": "code",
      "execution_count": 1,
      "metadata": {
        "id": "vcCuvi-QWCiZ",
        "outputId": "624a4d15-6f4f-4594-b5fb-bfaf413e8011",
        "colab": {
          "base_uri": "https://localhost:8080/"
        }
      },
      "outputs": [
        {
          "output_type": "stream",
          "name": "stdout",
          "text": [
            "Final slope (m): 1.8666\n",
            "Final intercept (c): 2.0337\n",
            "Predictions on training data:\n",
            "x = 0.1 , predicted y = 2.2204\n",
            "x = 0.2 , predicted y = 2.4071\n",
            "x = 0.3 , predicted y = 2.5937\n",
            "x = 0.4 , predicted y = 2.7804\n"
          ]
        }
      ],
      "source": [
        "X = [0.1, 0.2, 0.3, 0.4]\n",
        "Y = [2.2, 2.4, 2.6, 2.8]\n",
        "\n",
        "m = 0\n",
        "c = 0\n",
        "L = 0.1\n",
        "epochs = 1000\n",
        "n = len(X)\n",
        "\n",
        "for i in range(epochs):\n",
        "    Y_pred = [m * x + c for x in X]\n",
        "    D_m = (-2/n) * sum((Y[j] - Y_pred[j]) * X[j] for j in range(n))\n",
        "    D_c = (-2/n) * sum(Y[j] - Y_pred[j] for j in range(n))\n",
        "    m = m - L * D_m\n",
        "    c = c - L * D_c\n",
        "\n",
        "print(\"Final slope (m):\", round(m, 4))\n",
        "print(\"Final intercept (c):\", round(c, 4))\n",
        "\n",
        "print(\"Predictions on training data:\")\n",
        "for x in X:\n",
        "    print(\"x =\", x, \", predicted y =\", round(m * x + c, 4))\n"
      ]
    }
  ]
}
