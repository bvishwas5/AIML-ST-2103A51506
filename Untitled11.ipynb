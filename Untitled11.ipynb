{
  "nbformat": 4,
  "nbformat_minor": 0,
  "metadata": {
    "colab": {
      "provenance": [],
      "authorship_tag": "ABX9TyM66zHcFVNFv2STB0SlYGeM",
      "include_colab_link": true
    },
    "kernelspec": {
      "name": "python3",
      "display_name": "Python 3"
    },
    "language_info": {
      "name": "python"
    }
  },
  "cells": [
    {
      "cell_type": "markdown",
      "metadata": {
        "id": "view-in-github",
        "colab_type": "text"
      },
      "source": [
        "<a href=\"https://colab.research.google.com/github/bvishwas5/AIML-ST-2103A51506/blob/main/Untitled11.ipynb\" target=\"_parent\"><img src=\"https://colab.research.google.com/assets/colab-badge.svg\" alt=\"Open In Colab\"/></a>"
      ]
    },
    {
      "cell_type": "code",
      "execution_count": 1,
      "metadata": {
        "id": "RxO9GSyGXksh",
        "outputId": "5cf48690-cfab-43e4-9bbc-bcac0b76aba8",
        "colab": {
          "base_uri": "https://localhost:8080/"
        }
      },
      "outputs": [
        {
          "output_type": "stream",
          "name": "stdout",
          "text": [
            "Final m1: 1.9496384780097593\n",
            "Final m2: 3.383417366828211\n",
            "Final c: 3.4885805432040127\n"
          ]
        }
      ],
      "source": [
        "import math\n",
        "\n",
        "X1 = [0.1, 0.2, 0.3, -1, -3]\n",
        "X2 = [0.2, 0.3, 0.4, -2, -4]\n",
        "Y = [1, 1, 1, 0, 0]\n",
        "\n",
        "learning_rate = 0.1\n",
        "iterations = 1000\n",
        "\n",
        "m1 = 0\n",
        "m2 = 0\n",
        "c = 0\n",
        "\n",
        "n = len(X1)\n",
        "\n",
        "def sigmoid(z):\n",
        "    return 1 / (1 + math.exp(-z))\n",
        "\n",
        "for _ in range(iterations):\n",
        "    dm1 = 0\n",
        "    dm2 = 0\n",
        "    dc = 0\n",
        "\n",
        "    for i in range(n):\n",
        "        z = m1 * X1[i] + m2 * X2[i] + c\n",
        "        yp = sigmoid(z)\n",
        "        error = Y[i] - yp\n",
        "        dm1 += -2 * error * X1[i]\n",
        "        dm2 += -2 * error * X2[i]\n",
        "        dc += -2 * error\n",
        "\n",
        "    m1 -= learning_rate * (dm1 / n)\n",
        "    m2 -= learning_rate * (dm2 / n)\n",
        "    c -= learning_rate * (dc / n)\n",
        "\n",
        "print(f\"Final m1: {m1}\")\n",
        "print(f\"Final m2: {m2}\")\n",
        "print(f\"Final c: {c}\")\n"
      ]
    }
  ]
}