{
  "nbformat": 4,
  "nbformat_minor": 0,
  "metadata": {
    "colab": {
      "provenance": [],
      "authorship_tag": "ABX9TyNJK2n1k+vsGmiFbbTQodVH",
      "include_colab_link": true
    },
    "kernelspec": {
      "name": "python3",
      "display_name": "Python 3"
    },
    "language_info": {
      "name": "python"
    }
  },
  "cells": [
    {
      "cell_type": "markdown",
      "metadata": {
        "id": "view-in-github",
        "colab_type": "text"
      },
      "source": [
        "<a href=\"https://colab.research.google.com/github/bvishwas5/AIML-ST-2103A51506/blob/main/Untitled8.ipynb\" target=\"_parent\"><img src=\"https://colab.research.google.com/assets/colab-badge.svg\" alt=\"Open In Colab\"/></a>"
      ]
    },
    {
      "cell_type": "code",
      "execution_count": null,
      "metadata": {
        "id": "uueyTiKwTThP"
      },
      "outputs": [],
      "source": [
        "X = [0.1, 0.2, 0.3, 0.4]\n",
        "Y = [2.2, 2.4, 2.6, 2.8]\n",
        "\n",
        "m = 0\n",
        "c = 0\n",
        "learning_rate = 0.1\n",
        "n = len(X)\n",
        "\n",
        "for _ in range(1000):\n",
        "    y_pred = [m * x + c for x in X]\n",
        "    error = [y_pred[i] - Y[i] for i in range(n)]\n",
        "\n",
        "    dm = (2 / n) * sum(error[i] * X[i] for i in range(n))\n",
        "    dc = (2 / n) * sum(error)\n",
        "\n",
        "    m -= learning_rate * dm\n",
        "    c -= learning_rate * dc\n",
        "\n",
        "print(\"Final slope (m):\", m)\n",
        "print(\"Final intercept (c):\", c)\n"
      ]
    }
  ]
}