{
  "nbformat": 4,
  "nbformat_minor": 0,
  "metadata": {
    "colab": {
      "provenance": [],
      "authorship_tag": "ABX9TyOtDZCfzADUFN2B/+pa3D4L",
      "include_colab_link": true
    },
    "kernelspec": {
      "name": "python3",
      "display_name": "Python 3"
    },
    "language_info": {
      "name": "python"
    }
  },
  "cells": [
    {
      "cell_type": "markdown",
      "metadata": {
        "id": "view-in-github",
        "colab_type": "text"
      },
      "source": [
        "<a href=\"https://colab.research.google.com/github/bvishwas5/AIML-ST-2103A51506/blob/main/Untitled7.ipynb\" target=\"_parent\"><img src=\"https://colab.research.google.com/assets/colab-badge.svg\" alt=\"Open In Colab\"/></a>"
      ]
    },
    {
      "cell_type": "code",
      "execution_count": 1,
      "metadata": {
        "id": "LjxqlVsGS6ku",
        "outputId": "328c1d8c-c950-4501-e24a-699deb1dd82c",
        "colab": {
          "base_uri": "https://localhost:8080/"
        }
      },
      "outputs": [
        {
          "output_type": "stream",
          "name": "stdout",
          "text": [
            "Optimal x, y: 0.0 6.2226563665731\n",
            "Minimum value of f(x, y): 10.009919840324464\n"
          ]
        }
      ],
      "source": [
        "import numpy as np\n",
        "\n",
        "def f(x, y):\n",
        "    return 3 * x**2 + 5 * np.exp(-y) + 10\n",
        "\n",
        "def grad_f(x, y):\n",
        "    dfdx = 6 * x\n",
        "    dfdy = -5 * np.exp(-y)\n",
        "    return np.array([dfdx, dfdy])\n",
        "\n",
        "x, y = 1.0, 1.0\n",
        "eta = 0.1\n",
        "tolerance = 1e-6\n",
        "max_iter = 1000\n",
        "iter = 0\n",
        "\n",
        "while np.linalg.norm(grad_f(x, y)) > tolerance and iter < max_iter:\n",
        "    gradients = grad_f(x, y)\n",
        "    x = x - eta * gradients[0]\n",
        "    y = y - eta * gradients[1]\n",
        "    iter += 1\n",
        "\n",
        "print(\"Optimal x, y:\", x, y)\n",
        "print(\"Minimum value of f(x, y):\", f(x, y))\n"
      ]
    }
  ]
}