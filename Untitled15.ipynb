{
  "nbformat": 4,
  "nbformat_minor": 0,
  "metadata": {
    "colab": {
      "provenance": [],
      "authorship_tag": "ABX9TyMDOjOPxq6GwCD2jqa1j/7m",
      "include_colab_link": true
    },
    "kernelspec": {
      "name": "python3",
      "display_name": "Python 3"
    },
    "language_info": {
      "name": "python"
    }
  },
  "cells": [
    {
      "cell_type": "markdown",
      "metadata": {
        "id": "view-in-github",
        "colab_type": "text"
      },
      "source": [
        "<a href=\"https://colab.research.google.com/github/bvishwas5/AIML-ST-2103A51506/blob/main/Untitled15.ipynb\" target=\"_parent\"><img src=\"https://colab.research.google.com/assets/colab-badge.svg\" alt=\"Open In Colab\"/></a>"
      ]
    },
    {
      "cell_type": "code",
      "execution_count": 1,
      "metadata": {
        "id": "-wJ8k8z0aBhp",
        "outputId": "a26bf299-008a-4631-90be-d9712ce97f0b",
        "colab": {
          "base_uri": "https://localhost:8080/"
        }
      },
      "outputs": [
        {
          "output_type": "stream",
          "name": "stdout",
          "text": [
            "Accuracy: 0.6666666666666666\n",
            "Play Tennis Prediction: No\n"
          ]
        },
        {
          "output_type": "stream",
          "name": "stderr",
          "text": [
            "/usr/local/lib/python3.11/dist-packages/sklearn/utils/validation.py:2739: UserWarning: X does not have valid feature names, but RandomForestClassifier was fitted with feature names\n",
            "  warnings.warn(\n"
          ]
        }
      ],
      "source": [
        "import pandas as pd\n",
        "from sklearn.ensemble import RandomForestClassifier\n",
        "from sklearn.model_selection import train_test_split\n",
        "from sklearn.metrics import accuracy_score\n",
        "\n",
        "data = [\n",
        "    [2, 1, 0, 1, 0],\n",
        "    [2, 1, 0, 0, 0],\n",
        "    [0, 1, 0, 1, 1],\n",
        "    [1, 2, 0, 1, 1],\n",
        "    [1, 0, 1, 1, 1],\n",
        "    [1, 0, 1, 0, 0],\n",
        "    [0, 0, 1, 0, 1],\n",
        "    [2, 2, 0, 1, 0],\n",
        "    [2, 0, 1, 1, 1],\n",
        "    [1, 2, 1, 1, 1],\n",
        "    [2, 2, 1, 0, 1],\n",
        "    [0, 2, 0, 0, 1],\n",
        "    [0, 1, 1, 1, 1],\n",
        "    [1, 2, 0, 0, 0]\n",
        "]\n",
        "\n",
        "df = pd.DataFrame(data, columns=[\"Outlook\", \"Temp\", \"Humidity\", \"Wind\", \"Play\"])\n",
        "\n",
        "X = df[[\"Outlook\", \"Temp\", \"Humidity\", \"Wind\"]]\n",
        "y = df[\"Play\"]\n",
        "\n",
        "X_train, X_test, y_train, y_test = train_test_split(X, y, test_size=0.2, random_state=42)\n",
        "\n",
        "model = RandomForestClassifier(n_estimators=100, random_state=42)\n",
        "model.fit(X_train, y_train)\n",
        "\n",
        "y_pred = model.predict(X_test)\n",
        "accuracy = accuracy_score(y_test, y_pred)\n",
        "print(\"Accuracy:\", accuracy)\n",
        "\n",
        "sample = [[2, 1, 0, 1]]\n",
        "prediction = model.predict(sample)\n",
        "print(\"Play Tennis Prediction:\", \"Yes\" if prediction[0] == 1 else \"No\")\n"
      ]
    }
  ]
}